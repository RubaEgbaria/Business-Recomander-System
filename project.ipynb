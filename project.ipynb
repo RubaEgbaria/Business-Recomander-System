{
  "cells": [
    {
      "cell_type": "code",
      "execution_count": null,
      "metadata": {
        "colab": {
          "base_uri": "https://localhost:8080/",
          "height": 60,
          "resources": {
            "http://localhost:8080/nbextensions/google.colab/files.js": {
              "data": "Ly8gQ29weXJpZ2h0IDIwMTcgR29vZ2xlIExMQwovLwovLyBMaWNlbnNlZCB1bmRlciB0aGUgQXBhY2hlIExpY2Vuc2UsIFZlcnNpb24gMi4wICh0aGUgIkxpY2Vuc2UiKTsKLy8geW91IG1heSBub3QgdXNlIHRoaXMgZmlsZSBleGNlcHQgaW4gY29tcGxpYW5jZSB3aXRoIHRoZSBMaWNlbnNlLgovLyBZb3UgbWF5IG9idGFpbiBhIGNvcHkgb2YgdGhlIExpY2Vuc2UgYXQKLy8KLy8gICAgICBodHRwOi8vd3d3LmFwYWNoZS5vcmcvbGljZW5zZXMvTElDRU5TRS0yLjAKLy8KLy8gVW5sZXNzIHJlcXVpcmVkIGJ5IGFwcGxpY2FibGUgbGF3IG9yIGFncmVlZCB0byBpbiB3cml0aW5nLCBzb2Z0d2FyZQovLyBkaXN0cmlidXRlZCB1bmRlciB0aGUgTGljZW5zZSBpcyBkaXN0cmlidXRlZCBvbiBhbiAiQVMgSVMiIEJBU0lTLAovLyBXSVRIT1VUIFdBUlJBTlRJRVMgT1IgQ09ORElUSU9OUyBPRiBBTlkgS0lORCwgZWl0aGVyIGV4cHJlc3Mgb3IgaW1wbGllZC4KLy8gU2VlIHRoZSBMaWNlbnNlIGZvciB0aGUgc3BlY2lmaWMgbGFuZ3VhZ2UgZ292ZXJuaW5nIHBlcm1pc3Npb25zIGFuZAovLyBsaW1pdGF0aW9ucyB1bmRlciB0aGUgTGljZW5zZS4KCi8qKgogKiBAZmlsZW92ZXJ2aWV3IEhlbHBlcnMgZm9yIGdvb2dsZS5jb2xhYiBQeXRob24gbW9kdWxlLgogKi8KKGZ1bmN0aW9uKHNjb3BlKSB7CmZ1bmN0aW9uIHNwYW4odGV4dCwgc3R5bGVBdHRyaWJ1dGVzID0ge30pIHsKICBjb25zdCBlbGVtZW50ID0gZG9jdW1lbnQuY3JlYXRlRWxlbWVudCgnc3BhbicpOwogIGVsZW1lbnQudGV4dENvbnRlbnQgPSB0ZXh0OwogIGZvciAoY29uc3Qga2V5IG9mIE9iamVjdC5rZXlzKHN0eWxlQXR0cmlidXRlcykpIHsKICAgIGVsZW1lbnQuc3R5bGVba2V5XSA9IHN0eWxlQXR0cmlidXRlc1trZXldOwogIH0KICByZXR1cm4gZWxlbWVudDsKfQoKLy8gTWF4IG51bWJlciBvZiBieXRlcyB3aGljaCB3aWxsIGJlIHVwbG9hZGVkIGF0IGEgdGltZS4KY29uc3QgTUFYX1BBWUxPQURfU0laRSA9IDEwMCAqIDEwMjQ7CgpmdW5jdGlvbiBfdXBsb2FkRmlsZXMoaW5wdXRJZCwgb3V0cHV0SWQpIHsKICBjb25zdCBzdGVwcyA9IHVwbG9hZEZpbGVzU3RlcChpbnB1dElkLCBvdXRwdXRJZCk7CiAgY29uc3Qgb3V0cHV0RWxlbWVudCA9IGRvY3VtZW50LmdldEVsZW1lbnRCeUlkKG91dHB1dElkKTsKICAvLyBDYWNoZSBzdGVwcyBvbiB0aGUgb3V0cHV0RWxlbWVudCB0byBtYWtlIGl0IGF2YWlsYWJsZSBmb3IgdGhlIG5leHQgY2FsbAogIC8vIHRvIHVwbG9hZEZpbGVzQ29udGludWUgZnJvbSBQeXRob24uCiAgb3V0cHV0RWxlbWVudC5zdGVwcyA9IHN0ZXBzOwoKICByZXR1cm4gX3VwbG9hZEZpbGVzQ29udGludWUob3V0cHV0SWQpOwp9CgovLyBUaGlzIGlzIHJvdWdobHkgYW4gYXN5bmMgZ2VuZXJhdG9yIChub3Qgc3VwcG9ydGVkIGluIHRoZSBicm93c2VyIHlldCksCi8vIHdoZXJlIHRoZXJlIGFyZSBtdWx0aXBsZSBhc3luY2hyb25vdXMgc3RlcHMgYW5kIHRoZSBQeXRob24gc2lkZSBpcyBnb2luZwovLyB0byBwb2xsIGZvciBjb21wbGV0aW9uIG9mIGVhY2ggc3RlcC4KLy8gVGhpcyB1c2VzIGEgUHJvbWlzZSB0byBibG9jayB0aGUgcHl0aG9uIHNpZGUgb24gY29tcGxldGlvbiBvZiBlYWNoIHN0ZXAsCi8vIHRoZW4gcGFzc2VzIHRoZSByZXN1bHQgb2YgdGhlIHByZXZpb3VzIHN0ZXAgYXMgdGhlIGlucHV0IHRvIHRoZSBuZXh0IHN0ZXAuCmZ1bmN0aW9uIF91cGxvYWRGaWxlc0NvbnRpbnVlKG91dHB1dElkKSB7CiAgY29uc3Qgb3V0cHV0RWxlbWVudCA9IGRvY3VtZW50LmdldEVsZW1lbnRCeUlkKG91dHB1dElkKTsKICBjb25zdCBzdGVwcyA9IG91dHB1dEVsZW1lbnQuc3RlcHM7CgogIGNvbnN0IG5leHQgPSBzdGVwcy5uZXh0KG91dHB1dEVsZW1lbnQubGFzdFByb21pc2VWYWx1ZSk7CiAgcmV0dXJuIFByb21pc2UucmVzb2x2ZShuZXh0LnZhbHVlLnByb21pc2UpLnRoZW4oKHZhbHVlKSA9PiB7CiAgICAvLyBDYWNoZSB0aGUgbGFzdCBwcm9taXNlIHZhbHVlIHRvIG1ha2UgaXQgYXZhaWxhYmxlIHRvIHRoZSBuZXh0CiAgICAvLyBzdGVwIG9mIHRoZSBnZW5lcmF0b3IuCiAgICBvdXRwdXRFbGVtZW50Lmxhc3RQcm9taXNlVmFsdWUgPSB2YWx1ZTsKICAgIHJldHVybiBuZXh0LnZhbHVlLnJlc3BvbnNlOwogIH0pOwp9CgovKioKICogR2VuZXJhdG9yIGZ1bmN0aW9uIHdoaWNoIGlzIGNhbGxlZCBiZXR3ZWVuIGVhY2ggYXN5bmMgc3RlcCBvZiB0aGUgdXBsb2FkCiAqIHByb2Nlc3MuCiAqIEBwYXJhbSB7c3RyaW5nfSBpbnB1dElkIEVsZW1lbnQgSUQgb2YgdGhlIGlucHV0IGZpbGUgcGlja2VyIGVsZW1lbnQuCiAqIEBwYXJhbSB7c3RyaW5nfSBvdXRwdXRJZCBFbGVtZW50IElEIG9mIHRoZSBvdXRwdXQgZGlzcGxheS4KICogQHJldHVybiB7IUl0ZXJhYmxlPCFPYmplY3Q+fSBJdGVyYWJsZSBvZiBuZXh0IHN0ZXBzLgogKi8KZnVuY3Rpb24qIHVwbG9hZEZpbGVzU3RlcChpbnB1dElkLCBvdXRwdXRJZCkgewogIGNvbnN0IGlucHV0RWxlbWVudCA9IGRvY3VtZW50LmdldEVsZW1lbnRCeUlkKGlucHV0SWQpOwogIGlucHV0RWxlbWVudC5kaXNhYmxlZCA9IGZhbHNlOwoKICBjb25zdCBvdXRwdXRFbGVtZW50ID0gZG9jdW1lbnQuZ2V0RWxlbWVudEJ5SWQob3V0cHV0SWQpOwogIG91dHB1dEVsZW1lbnQuaW5uZXJIVE1MID0gJyc7CgogIGNvbnN0IHBpY2tlZFByb21pc2UgPSBuZXcgUHJvbWlzZSgocmVzb2x2ZSkgPT4gewogICAgaW5wdXRFbGVtZW50LmFkZEV2ZW50TGlzdGVuZXIoJ2NoYW5nZScsIChlKSA9PiB7CiAgICAgIHJlc29sdmUoZS50YXJnZXQuZmlsZXMpOwogICAgfSk7CiAgfSk7CgogIGNvbnN0IGNhbmNlbCA9IGRvY3VtZW50LmNyZWF0ZUVsZW1lbnQoJ2J1dHRvbicpOwogIGlucHV0RWxlbWVudC5wYXJlbnRFbGVtZW50LmFwcGVuZENoaWxkKGNhbmNlbCk7CiAgY2FuY2VsLnRleHRDb250ZW50ID0gJ0NhbmNlbCB1cGxvYWQnOwogIGNvbnN0IGNhbmNlbFByb21pc2UgPSBuZXcgUHJvbWlzZSgocmVzb2x2ZSkgPT4gewogICAgY2FuY2VsLm9uY2xpY2sgPSAoKSA9PiB7CiAgICAgIHJlc29sdmUobnVsbCk7CiAgICB9OwogIH0pOwoKICAvLyBXYWl0IGZvciB0aGUgdXNlciB0byBwaWNrIHRoZSBmaWxlcy4KICBjb25zdCBmaWxlcyA9IHlpZWxkIHsKICAgIHByb21pc2U6IFByb21pc2UucmFjZShbcGlja2VkUHJvbWlzZSwgY2FuY2VsUHJvbWlzZV0pLAogICAgcmVzcG9uc2U6IHsKICAgICAgYWN0aW9uOiAnc3RhcnRpbmcnLAogICAgfQogIH07CgogIGNhbmNlbC5yZW1vdmUoKTsKCiAgLy8gRGlzYWJsZSB0aGUgaW5wdXQgZWxlbWVudCBzaW5jZSBmdXJ0aGVyIHBpY2tzIGFyZSBub3QgYWxsb3dlZC4KICBpbnB1dEVsZW1lbnQuZGlzYWJsZWQgPSB0cnVlOwoKICBpZiAoIWZpbGVzKSB7CiAgICByZXR1cm4gewogICAgICByZXNwb25zZTogewogICAgICAgIGFjdGlvbjogJ2NvbXBsZXRlJywKICAgICAgfQogICAgfTsKICB9CgogIGZvciAoY29uc3QgZmlsZSBvZiBmaWxlcykgewogICAgY29uc3QgbGkgPSBkb2N1bWVudC5jcmVhdGVFbGVtZW50KCdsaScpOwogICAgbGkuYXBwZW5kKHNwYW4oZmlsZS5uYW1lLCB7Zm9udFdlaWdodDogJ2JvbGQnfSkpOwogICAgbGkuYXBwZW5kKHNwYW4oCiAgICAgICAgYCgke2ZpbGUudHlwZSB8fCAnbi9hJ30pIC0gJHtmaWxlLnNpemV9IGJ5dGVzLCBgICsKICAgICAgICBgbGFzdCBtb2RpZmllZDogJHsKICAgICAgICAgICAgZmlsZS5sYXN0TW9kaWZpZWREYXRlID8gZmlsZS5sYXN0TW9kaWZpZWREYXRlLnRvTG9jYWxlRGF0ZVN0cmluZygpIDoKICAgICAgICAgICAgICAgICAgICAgICAgICAgICAgICAgICAgJ24vYSd9IC0gYCkpOwogICAgY29uc3QgcGVyY2VudCA9IHNwYW4oJzAlIGRvbmUnKTsKICAgIGxpLmFwcGVuZENoaWxkKHBlcmNlbnQpOwoKICAgIG91dHB1dEVsZW1lbnQuYXBwZW5kQ2hpbGQobGkpOwoKICAgIGNvbnN0IGZpbGVEYXRhUHJvbWlzZSA9IG5ldyBQcm9taXNlKChyZXNvbHZlKSA9PiB7CiAgICAgIGNvbnN0IHJlYWRlciA9IG5ldyBGaWxlUmVhZGVyKCk7CiAgICAgIHJlYWRlci5vbmxvYWQgPSAoZSkgPT4gewogICAgICAgIHJlc29sdmUoZS50YXJnZXQucmVzdWx0KTsKICAgICAgfTsKICAgICAgcmVhZGVyLnJlYWRBc0FycmF5QnVmZmVyKGZpbGUpOwogICAgfSk7CiAgICAvLyBXYWl0IGZvciB0aGUgZGF0YSB0byBiZSByZWFkeS4KICAgIGxldCBmaWxlRGF0YSA9IHlpZWxkIHsKICAgICAgcHJvbWlzZTogZmlsZURhdGFQcm9taXNlLAogICAgICByZXNwb25zZTogewogICAgICAgIGFjdGlvbjogJ2NvbnRpbnVlJywKICAgICAgfQogICAgfTsKCiAgICAvLyBVc2UgYSBjaHVua2VkIHNlbmRpbmcgdG8gYXZvaWQgbWVzc2FnZSBzaXplIGxpbWl0cy4gU2VlIGIvNjIxMTU2NjAuCiAgICBsZXQgcG9zaXRpb24gPSAwOwogICAgZG8gewogICAgICBjb25zdCBsZW5ndGggPSBNYXRoLm1pbihmaWxlRGF0YS5ieXRlTGVuZ3RoIC0gcG9zaXRpb24sIE1BWF9QQVlMT0FEX1NJWkUpOwogICAgICBjb25zdCBjaHVuayA9IG5ldyBVaW50OEFycmF5KGZpbGVEYXRhLCBwb3NpdGlvbiwgbGVuZ3RoKTsKICAgICAgcG9zaXRpb24gKz0gbGVuZ3RoOwoKICAgICAgY29uc3QgYmFzZTY0ID0gYnRvYShTdHJpbmcuZnJvbUNoYXJDb2RlLmFwcGx5KG51bGwsIGNodW5rKSk7CiAgICAgIHlpZWxkIHsKICAgICAgICByZXNwb25zZTogewogICAgICAgICAgYWN0aW9uOiAnYXBwZW5kJywKICAgICAgICAgIGZpbGU6IGZpbGUubmFtZSwKICAgICAgICAgIGRhdGE6IGJhc2U2NCwKICAgICAgICB9LAogICAgICB9OwoKICAgICAgbGV0IHBlcmNlbnREb25lID0gZmlsZURhdGEuYnl0ZUxlbmd0aCA9PT0gMCA/CiAgICAgICAgICAxMDAgOgogICAgICAgICAgTWF0aC5yb3VuZCgocG9zaXRpb24gLyBmaWxlRGF0YS5ieXRlTGVuZ3RoKSAqIDEwMCk7CiAgICAgIHBlcmNlbnQudGV4dENvbnRlbnQgPSBgJHtwZXJjZW50RG9uZX0lIGRvbmVgOwoKICAgIH0gd2hpbGUgKHBvc2l0aW9uIDwgZmlsZURhdGEuYnl0ZUxlbmd0aCk7CiAgfQoKICAvLyBBbGwgZG9uZS4KICB5aWVsZCB7CiAgICByZXNwb25zZTogewogICAgICBhY3Rpb246ICdjb21wbGV0ZScsCiAgICB9CiAgfTsKfQoKc2NvcGUuZ29vZ2xlID0gc2NvcGUuZ29vZ2xlIHx8IHt9OwpzY29wZS5nb29nbGUuY29sYWIgPSBzY29wZS5nb29nbGUuY29sYWIgfHwge307CnNjb3BlLmdvb2dsZS5jb2xhYi5fZmlsZXMgPSB7CiAgX3VwbG9hZEZpbGVzLAogIF91cGxvYWRGaWxlc0NvbnRpbnVlLAp9Owp9KShzZWxmKTsK",
              "headers": [
                [
                  "content-type",
                  "application/javascript"
                ]
              ],
              "ok": true,
              "status": 200,
              "status_text": ""
            }
          }
        },
        "id": "P0et3xT0Zbu_",
        "outputId": "e9b3a7d7-10ec-4c95-90e1-b2f645c84518"
      },
      "outputs": [
        {
          "output_type": "display_data",
          "data": {
            "text/plain": [
              "<IPython.core.display.HTML object>"
            ],
            "text/html": [
              "\n",
              "     <input type=\"file\" id=\"files-e163f107-be7c-4c59-8ee5-e008606ba525\" name=\"files[]\" multiple disabled\n",
              "        style=\"border:none\" />\n",
              "     <output id=\"result-e163f107-be7c-4c59-8ee5-e008606ba525\">\n",
              "      Upload widget is only available when the cell has been executed in the\n",
              "      current browser session. Please rerun this cell to enable.\n",
              "      </output>\n",
              "      <script src=\"/nbextensions/google.colab/files.js\"></script> "
            ]
          },
          "metadata": {}
        }
      ],
      "source": [
        "import pandas as pd\n",
        "import numpy as np\n",
        "from sklearn.preprocessing import StandardScaler\n",
        "import matplotlib.pyplot as plt\n",
        "import seaborn as sns\n",
        "import sklearn.metrics\n",
        "from google.colab import files\n",
        "uploaded = files.upload()\n",
        "\n",
        "import io\n",
        "data= pd.read_csv(io.BytesIO(uploaded['data.csv']))\n",
        "# Dataset is now stored in a Pandas Dataframe"
      ],
      "id": "P0et3xT0Zbu_"
    },
    {
      "cell_type": "code",
      "execution_count": null,
      "metadata": {
        "id": "bf1d0f12",
        "scrolled": true
      },
      "outputs": [],
      "source": [
        "data.head()"
      ],
      "id": "bf1d0f12"
    },
    {
      "cell_type": "code",
      "execution_count": null,
      "metadata": {
        "id": "bf5a804a"
      },
      "outputs": [],
      "source": [
        "dataset = data.drop(['id','business_name','street_name','owner','business_type'], axis = 1,inplace=True)"
      ],
      "id": "bf5a804a"
    },
    {
      "cell_type": "code",
      "execution_count": null,
      "metadata": {
        "id": "cd10949f"
      },
      "outputs": [],
      "source": [
        "data.head()"
      ],
      "id": "cd10949f"
    },
    {
      "cell_type": "code",
      "execution_count": null,
      "metadata": {
        "id": "1738f5e5"
      },
      "outputs": [],
      "source": [
        "print(\"Is there any missing data? : \", data.isna().any().any())\n",
        "data.isna().sum()"
      ],
      "id": "1738f5e5"
    },
    {
      "cell_type": "code",
      "execution_count": null,
      "metadata": {
        "id": "b349fc9d"
      },
      "outputs": [],
      "source": [
        "import matplotlib.pyplot as plt\n",
        "data.hist(figsize=(20,20))\n",
        "plt.show()"
      ],
      "id": "b349fc9d"
    },
    {
      "cell_type": "code",
      "execution_count": null,
      "metadata": {
        "id": "f05afdd9"
      },
      "outputs": [],
      "source": [
        "f,ax = plt.subplots(figsize = (15,15))\n",
        "sns.heatmap(data.corr(), annot=True,fmt = '.2g', ax= ax)\n",
        "plt.xlabel('Features')\n",
        "plt.show()"
      ],
      "id": "f05afdd9"
    },
    {
      "cell_type": "code",
      "execution_count": null,
      "metadata": {
        "id": "315eed40",
        "scrolled": true
      },
      "outputs": [],
      "source": [
        "data.head()"
      ],
      "id": "315eed40"
    },
    {
      "cell_type": "markdown",
      "metadata": {
        "id": "maMe5opLNsVt"
      },
      "source": [
        ""
      ],
      "id": "maMe5opLNsVt"
    },
    {
      "cell_type": "code",
      "execution_count": null,
      "metadata": {
        "id": "f527f58b"
      },
      "outputs": [],
      "source": [
        "data['cost'].describe()"
      ],
      "id": "f527f58b"
    },
    {
      "cell_type": "code",
      "execution_count": null,
      "metadata": {
        "id": "W41Uu_fTOvxF"
      },
      "outputs": [],
      "source": [
        "#cross between 2 colomns to find probability of the cost in each business\n",
        "df1=pd.DataFrame(data, columns=['business_number','cost'])\n"
      ],
      "id": "W41Uu_fTOvxF"
    },
    {
      "cell_type": "code",
      "execution_count": null,
      "metadata": {
        "id": "s8udx86NOwK4"
      },
      "outputs": [],
      "source": [
        "d1 = pd.crosstab(index=df1[\"business_number\"], columns=\"count\") \n",
        "d1"
      ],
      "id": "s8udx86NOwK4"
    },
    {
      "cell_type": "code",
      "execution_count": null,
      "metadata": {
        "id": "JnXdPYUgOwjT"
      },
      "outputs": [],
      "source": [
        "d2=pd.crosstab(index=df1[\"cost\"], columns=\"count\") \n",
        "d2"
      ],
      "id": "JnXdPYUgOwjT"
    },
    {
      "cell_type": "code",
      "execution_count": null,
      "metadata": {
        "id": "Ju5Fd2auRlgZ"
      },
      "outputs": [],
      "source": [
        "d3=pd.crosstab(index=df1[\"cost\"], columns=df1[\"business_number\"],margins=True ) \n",
        "d3\n",
        "#frequency table for cost "
      ],
      "id": "Ju5Fd2auRlgZ"
    },
    {
      "cell_type": "code",
      "execution_count": null,
      "metadata": {
        "id": "Qbur1ILXfaUb"
      },
      "outputs": [],
      "source": [
        "d4=d3/d3.loc[\"All\",\"All\"]\n",
        "d4\n",
        "#Likelihood table"
      ],
      "id": "Qbur1ILXfaUb"
    },
    {
      "cell_type": "code",
      "execution_count": null,
      "metadata": {
        "id": "XAQeAwCGGWIE"
      },
      "outputs": [],
      "source": [
        "#find the highest\n",
        "d4 = d4.drop(\"All\", axis=0)\n",
        "d4 = d4.drop(\"All\", axis=1)\n",
        "#max = d4.max()\n"
      ],
      "id": "XAQeAwCGGWIE"
    },
    {
      "cell_type": "code",
      "execution_count": null,
      "metadata": {
        "id": "FNXrehvSKGZp"
      },
      "outputs": [],
      "source": [
        "d4.style\n"
      ],
      "id": "FNXrehvSKGZp"
    },
    {
      "cell_type": "code",
      "execution_count": null,
      "metadata": {
        "id": "EVdpkmzjRofU"
      },
      "outputs": [],
      "source": [
        "#naive bayes\n",
        "# importing required libraries\n",
        "from sklearn.naive_bayes import GaussianNB\n",
        "from sklearn.metrics import accuracy_score\n",
        "from sklearn.model_selection import train_test_split\n",
        "from sklearn.metrics import classification_report\n",
        "from sklearn.metrics import confusion_matrix\n",
        "\n",
        "# Now, we need to predict the missing target variable in the test data\n",
        "X = data.drop(['cost'], axis = 1)\n",
        "Y = data['cost']\n",
        "print(X)\n",
        "print(Y)\n",
        "\n",
        "x_train , x_test , y_train , y_test  = train_test_split(X, Y, test_size=0.2, shuffle=True, random_state=1)\n",
        "model = GaussianNB()\n",
        "model.fit(x_train,y_train)\n",
        "y_pred=model.predict(x_test)\n",
        "\n",
        "print(classification_report(y_test,y_pred))\n",
        "print(\"Test Accuracy: {:.2f}%\".format(model.score(x_test, y_test) * 100))\n",
        "\n",
        "\n"
      ],
      "id": "EVdpkmzjRofU"
    },
    {
      "cell_type": "code",
      "execution_count": null,
      "metadata": {
        "id": "tbeu0oHBDMdW"
      },
      "outputs": [],
      "source": [
        "# We've splitted the streets into 3 categories 1,2 and 3 which is the last number of the street's ID\n",
        "# 1 -> main street (High)\n",
        "# 2 -> main - substreet (Meduim)\n",
        "# 3 -> substreet (Low)"
      ],
      "id": "tbeu0oHBDMdW"
    },
    {
      "cell_type": "code",
      "execution_count": null,
      "metadata": {
        "id": "b6CpC31sDMtL"
      },
      "outputs": [],
      "source": [
        "from numpy.ma.core import count\n",
        "# Business that should be in a substreet \n",
        "df2 = pd.DataFrame(data, columns=['business_number'])\n",
        "df2.drop_duplicates()"
      ],
      "id": "b6CpC31sDMtL"
    },
    {
      "cell_type": "code",
      "execution_count": null,
      "metadata": {
        "id": "1XbTUcjE6xhR"
      },
      "outputs": [],
      "source": [
        "df55=pd.DataFrame(data,columns=['street_number'])\n",
        "ara=df55.drop_duplicates()\n",
        "ara"
      ],
      "id": "1XbTUcjE6xhR"
    },
    {
      "cell_type": "code",
      "execution_count": null,
      "metadata": {
        "id": "dPIrKhmqev1W"
      },
      "outputs": [],
      "source": [
        "#empty data frame -> jobs in main street / main-substreet / substreet  \n",
        "#مهنه شارع\n",
        "business_array = df2.drop_duplicates()[['business_number']].to_numpy()\n",
        "for t in range(92):\n",
        "  if t==0:\n",
        "    df4 = pd.DataFrame(columns=business_array[t], index=range(3))\n",
        "  else:\n",
        "    df4.insert(t, business_array[t],0, True)\n",
        "df4.rename(index = {0: \"main_street\", 1:\"main-substreet\",2:\"substreet\"},inplace = True)\n",
        "df4\n"
      ],
      "id": "dPIrKhmqev1W"
    },
    {
      "cell_type": "code",
      "execution_count": null,
      "metadata": {
        "id": "81SzG1ksiA_O"
      },
      "outputs": [],
      "source": [
        "#مهنه شارع\n",
        "df3 = pd.DataFrame(data, columns=['street_number'])\n",
        "street =df3[['street_number']].to_numpy()\n",
        "job = df2[['business_number']].to_numpy()\n",
        "rows, cols = (2, 1056)\n",
        "matrix= [[0 for i in range(cols)] for j in range(rows)]\n",
        "count1 =0\n",
        "count2 =0\n",
        "count3 =0\n",
        "sum1 =0\n",
        "sum2 =0\n",
        "sum3 =0\n",
        "st1 =[0 for x in range(92)]\n",
        "st2 =[0 for x in range(92)]\n",
        "st3 =[0 for x in range(92)]\n",
        "for j in range(1056):\n",
        "  l = street[j]%10\n",
        "  matrix[0][j] = l\n",
        "  matrix[1][j] = job[j]\n",
        "for c in range(92):\n",
        "  k=business_array[c]\n",
        "  count1=0\n",
        "  count2=0\n",
        "  count3=0\n",
        "  for p in range(1056):\n",
        "    if k == matrix[1][p] :\n",
        "      if matrix[0][p] == 1:\n",
        "        count1 = count1 +1\n",
        "      if matrix[0][p] == 2:\n",
        "        count2 = count2 +1\n",
        "      elif matrix [0][p] == 3:\n",
        "        count3 = count3 + 1\n",
        "  st1[c]=count1\n",
        "  st2[c]=count2\n",
        "  st3[c]=count3\n",
        "  sum1=sum1 + count1\n",
        "  sum2=sum2 + count2\n",
        "  sum3=sum3 +count3\n",
        "df4.loc[\"main_street\"] = st1\n",
        "df4.loc[\"main-substreet\"] = st2\n",
        "df4.loc[\"substreet\"] =st3\n",
        "print(\"number of jobs in main street = \",sum1)\n",
        "print(\"number of jobs in main-substreet = \",sum2)\n",
        "print(\"number of jobs in substreet = \",sum3)\n",
        "df4"
      ],
      "id": "81SzG1ksiA_O"
    },
    {
      "cell_type": "code",
      "execution_count": null,
      "metadata": {
        "id": "yDkN837EL8om"
      },
      "outputs": [],
      "source": [
        "#مهنه شارع\n",
        "df5=df4/df4.sum()\n",
        "df5\n",
        "\n",
        "#likelihood table "
      ],
      "id": "yDkN837EL8om"
    },
    {
      "cell_type": "code",
      "execution_count": null,
      "metadata": {
        "id": "KD-tsQS51O_u"
      },
      "outputs": [],
      "source": [
        "#naive bayes\n",
        "# importing required libraries\n",
        "from sklearn.naive_bayes import GaussianNB\n",
        "from sklearn.metrics import accuracy_score\n",
        "from sklearn.model_selection import train_test_split\n",
        "from sklearn.metrics import classification_report\n",
        "from sklearn.metrics import confusion_matrix\n",
        "\n",
        "# Now, we need to predict the missing target variable in the test data\n",
        "X = data.drop(['street_number','cost'], axis = 1)\n",
        "Y = data['street_number']\n",
        "Z=Y%10\n",
        "print(X)\n",
        "print(Z)\n",
        "\n",
        "x_train , x_test , y_train , y_test  = train_test_split(X, Z, test_size=0.2, shuffle=True, random_state=1)\n",
        "model = GaussianNB()\n",
        "model.fit(x_train,y_train)\n",
        "y_pred=model.predict(x_test)\n",
        "\n",
        "print(classification_report(y_test,y_pred))\n",
        "print(\"Test Accuracy: {:.2f}%\".format(model.score(x_test, y_test) * 100))"
      ],
      "id": "KD-tsQS51O_u"
    },
    {
      "cell_type": "code",
      "execution_count": null,
      "metadata": {
        "id": "dSHzBIqESQXS"
      },
      "outputs": [],
      "source": [
        "#cross between 2 colomns to business number and the area to find the similarity\n",
        "darea=pd.DataFrame(data, columns=['business_number','area'])"
      ],
      "id": "dSHzBIqESQXS"
    },
    {
      "cell_type": "code",
      "execution_count": null,
      "metadata": {
        "id": "sQvPNdO-SQvs"
      },
      "outputs": [],
      "source": [
        "#حوض مهنه\n",
        "dlast=pd.crosstab(index=darea[\"area\"], columns=darea[\"business_number\"],margins=True ) \n",
        "dlast"
      ],
      "id": "sQvPNdO-SQvs"
    },
    {
      "cell_type": "code",
      "execution_count": null,
      "metadata": {
        "id": "Po5TeysCSRBo"
      },
      "outputs": [],
      "source": [
        "#حوض مهنه\n",
        "dlast = dlast.drop(\"All\", axis=0)\n",
        "dlast"
      ],
      "id": "Po5TeysCSRBo"
    },
    {
      "cell_type": "code",
      "execution_count": null,
      "metadata": {
        "id": "jls_EL1qSRQP"
      },
      "outputs": [],
      "source": [
        "#sorted area accodring to business sum in each area\n",
        "sorted = dlast.sort_values(by=['All'])\n",
        "sorted"
      ],
      "id": "jls_EL1qSRQP"
    },
    {
      "cell_type": "code",
      "execution_count": null,
      "metadata": {
        "id": "NG7mqKwDVZaq"
      },
      "outputs": [],
      "source": [
        "# group the area have the same number of business in list\n",
        "#dl = dlast.groupby('All')['area'].apply(list)\n",
        "#dl\n",
        "dup = dlast.pivot_table(columns=['All'], aggfunc='size')\n",
        "dup"
      ],
      "id": "NG7mqKwDVZaq"
    },
    {
      "cell_type": "code",
      "execution_count": null,
      "metadata": {
        "id": "0cgpLA6hbkjN"
      },
      "outputs": [],
      "source": [
        "# dataframe of sorted buisness\n",
        "sortedBuisness = sorted.loc[:,'All']\n",
        "sortedBuisness"
      ],
      "id": "0cgpLA6hbkjN"
    },
    {
      "cell_type": "code",
      "execution_count": null,
      "metadata": {
        "id": "6JmdRKF86TNH"
      },
      "outputs": [],
      "source": [
        "# dataframe of sorted areas\n",
        "sortedAreas = sorted.iloc[:,:1]\n",
        "sortedAreas\n",
        "Array3 = sortedAreas.index\n",
        "Array3"
      ],
      "id": "6JmdRKF86TNH"
    },
    {
      "cell_type": "code",
      "execution_count": null,
      "metadata": {
        "id": "-W8ZKdUcECiJ"
      },
      "outputs": [],
      "source": [
        "#dataframe for area with job count\n",
        "#حوض  عدد مهن \n",
        "AJ = pd.DataFrame(sortedAreas.index)  \n",
        "AJ.insert(1, \"job_count\",sorted.loc[:,'All'].values, True)\n",
        "AJ"
      ],
      "id": "-W8ZKdUcECiJ"
    },
    {
      "cell_type": "code",
      "execution_count": null,
      "metadata": {
        "id": "GPPSbKHz_yev"
      },
      "outputs": [],
      "source": [
        "#try area with job count (K-means)\n",
        "import numpy as np # linear algebra\n",
        "import pandas as pd # data processing, CSV file I/O (e.g. pd.read_csv)\n",
        "import matplotlib.pyplot as plt # for data visualization\n",
        "import seaborn as sns # for statistical data visualization\n",
        "import warnings\n",
        "from sklearn.cluster import KMeans\n",
        "warnings.filterwarnings('ignore')\n",
        "#Declare feature vector and target variable ¶\n",
        "plt.scatter(AJ['area'],AJ['job_count'])\n",
        "x = AJ[['area', 'job_count']]\n",
        "kmeans = KMeans(2)\n",
        "kmeans.fit(x)\n",
        "identified_clusters = kmeans.fit_predict(x)\n",
        "identified_clusters\n",
        "data_with_clusters = AJ.copy()\n",
        "data_with_clusters['Clusters'] = identified_clusters \n",
        "plt.scatter(data_with_clusters['area'],data_with_clusters['job_count'],c=data_with_clusters['Clusters'],cmap='rainbow')"
      ],
      "id": "GPPSbKHz_yev"
    },
    {
      "cell_type": "code",
      "execution_count": null,
      "metadata": {
        "id": "Um699VeQ3p0n"
      },
      "outputs": [],
      "source": [
        "nn=pd.DataFrame(data_with_clusters['Clusters'])\n",
        "nn.insert(1, \"area\",data_with_clusters['area'].values, True)\n",
        "nn.insert(2, \"job_count\",AJ['job_count'].values, True)\n",
        "nn"
      ],
      "id": "Um699VeQ3p0n"
    },
    {
      "cell_type": "code",
      "execution_count": null,
      "metadata": {
        "id": "r8HKVCA-_cwy"
      },
      "outputs": [],
      "source": [
        "dk1=pd.DataFrame(data, columns=['area','cost'])\n",
        "dk1\n",
        "#the cost with area"
      ],
      "id": "r8HKVCA-_cwy"
    },
    {
      "cell_type": "code",
      "execution_count": null,
      "metadata": {
        "id": "hhf6wo2S_UHa"
      },
      "outputs": [],
      "source": [
        "dk=pd.crosstab(index=dk1[\"cost\"], columns=dk1[\"area\"],margins=True ) \n",
        "dk\n",
        "#frequency table for cost with area\n",
        "#كوست حوض"
      ],
      "id": "hhf6wo2S_UHa"
    },
    {
      "cell_type": "code",
      "execution_count": null,
      "metadata": {
        "id": "mYRpZ8nRBWab"
      },
      "outputs": [],
      "source": [
        "#find the cost sum for every area \n",
        "dk2 = dk1.groupby(['area']).agg({'cost': 'sum'})\n",
        "#add the cost number to th data frame \n",
        "dk2.insert(1, \"cost_count\",dk.loc['All'], True)"
      ],
      "id": "mYRpZ8nRBWab"
    },
    {
      "cell_type": "code",
      "execution_count": null,
      "metadata": {
        "id": "bWT22V2SLCwP"
      },
      "outputs": [],
      "source": [
        "#the mean cost for every area\n",
        "dk3 = dk2['cost']/dk2['cost_count']\n",
        "dk2.insert(2, \"cost_avg\",dk3, True)\n",
        "dk4=dk2.iloc[:,:0]\n",
        "#collect all i want to use in one datafram\n",
        "dk5=pd.DataFrame(dk4.index, columns=['area'])\n",
        "dk2.insert(3, \"area\",dk5, True)\n",
        "dk2.reset_index(inplace = True, drop = True)\n",
        "dk2.rename(columns = {'cost_count':'job_count'}, inplace = True)"
      ],
      "id": "bWT22V2SLCwP"
    },
    {
      "cell_type": "code",
      "execution_count": null,
      "metadata": {
        "id": "F82rd2lJPXul"
      },
      "outputs": [],
      "source": [
        "dk2"
      ],
      "id": "F82rd2lJPXul"
    },
    {
      "cell_type": "code",
      "execution_count": null,
      "metadata": {
        "id": "43we0pp0Peeb"
      },
      "outputs": [],
      "source": [
        "#k-mean (area , cost avg ,job num)\n",
        "import numpy as np\n",
        "import pandas as pd\n",
        "import matplotlib.pyplot as plt\n",
        "from sklearn.cluster import KMeans\n",
        "X = dk2.iloc[:,1:4]\n",
        "X"
      ],
      "id": "43we0pp0Peeb"
    },
    {
      "cell_type": "code",
      "execution_count": null,
      "metadata": {
        "id": "dDlNKyBCixb5"
      },
      "outputs": [],
      "source": [
        "#elbow method\n",
        "wcss = []\n",
        "for i in range(1,11):\n",
        "    k_means = KMeans(n_clusters=i,init='k-means++', random_state=42)\n",
        "    k_means.fit(X)\n",
        "    wcss.append(k_means.inertia_)\n",
        "#plot elbow curve\n",
        "plt.plot(np.arange(1,11),wcss)\n",
        "plt.xlabel('Clusters')\n",
        "plt.ylabel('SSE')\n",
        "plt.show()"
      ],
      "id": "dDlNKyBCixb5"
    },
    {
      "cell_type": "code",
      "execution_count": null,
      "metadata": {
        "id": "ZRpvM9-Ki1AA"
      },
      "outputs": [],
      "source": [
        "k_means_optimum = KMeans(n_clusters = 4, init = 'k-means++',  random_state=42)\n",
        "y = k_means_optimum.fit_predict(X)\n",
        "print(y)"
      ],
      "id": "ZRpvM9-Ki1AA"
    },
    {
      "cell_type": "code",
      "execution_count": null,
      "metadata": {
        "id": "aQKbo0MIi-_c"
      },
      "outputs": [],
      "source": [
        "dk2['cluster'] = y  \n",
        "# the above step adds extra column indicating the cluster number for each country"
      ],
      "id": "aQKbo0MIi-_c"
    },
    {
      "cell_type": "code",
      "execution_count": null,
      "metadata": {
        "id": "vu0uqezVjTfB"
      },
      "outputs": [],
      "source": [
        "data1 = dk2[dk2.cluster==0]\n",
        "data2 = dk2[dk2.cluster==1]\n",
        "data3 = dk2[dk2.cluster==2]\n",
        "data4 = dk2[dk2.cluster==3]"
      ],
      "id": "vu0uqezVjTfB"
    },
    {
      "cell_type": "code",
      "execution_count": null,
      "metadata": {
        "id": "OdBiBdzDjndP"
      },
      "outputs": [],
      "source": [
        "kplot = plt.axes(projection='3d')\n",
        "xline = np.linspace(0, 15, 30000)\n",
        "yline = np.linspace(0, 15, 30000)\n",
        "zline = np.linspace(0, 15, 30000)\n",
        "kplot.plot3D(xline, yline, zline, 'black')\n",
        "# Data for three-dimensional scattered points\n",
        "kplot.scatter3D(data1.job_count, data1.cost_avg, data1.area, c='red', label = 'Cluster 1')\n",
        "kplot.scatter3D(data2.job_count,data2.cost_avg,data2.area,c ='green', label = 'Cluster 2')\n",
        "kplot.scatter3D(data3.job_count, data3.cost_avg, data3.area, c='blue', label = 'Cluster 3')\n",
        "kplot.scatter3D(data4.job_count, data4.cost_avg, data4.area, c='black', label = 'Cluster 4')\n",
        "plt.scatter(k_means_optimum.cluster_centers_[:,0], k_means_optimum.cluster_centers_[:,1], color = 'indigo', s = 200)\n",
        "plt.legend()\n",
        "plt.title(\"Kmeans\")\n",
        "plt.show()"
      ],
      "id": "OdBiBdzDjndP"
    },
    {
      "cell_type": "code",
      "execution_count": null,
      "metadata": {
        "id": "AGp0PEA6kZW3"
      },
      "outputs": [],
      "source": [
        "dk2"
      ],
      "id": "AGp0PEA6kZW3"
    },
    {
      "cell_type": "code",
      "execution_count": null,
      "metadata": {
        "id": "DbuZMv0l1nMQ"
      },
      "outputs": [],
      "source": [
        "list1=[]\n",
        "Tlist1=dk2.loc[dk2['cluster'] == 0]\n",
        "list1=Tlist1['area'].values\n",
        "list1"
      ],
      "id": "DbuZMv0l1nMQ"
    },
    {
      "cell_type": "code",
      "execution_count": null,
      "metadata": {
        "id": "Edr2oWO54o-W"
      },
      "outputs": [],
      "source": [
        "list2=[]\n",
        "Tlist2=dk2.loc[dk2['cluster'] == 1]\n",
        "list2=Tlist2['area'].values\n",
        "list2"
      ],
      "id": "Edr2oWO54o-W"
    },
    {
      "cell_type": "code",
      "execution_count": null,
      "metadata": {
        "id": "WfPEsNW-416P"
      },
      "outputs": [],
      "source": [
        "list3=[]\n",
        "Tlist3=dk2.loc[dk2['cluster'] == 2]\n",
        "list3=Tlist3['area'].values\n",
        "list3"
      ],
      "id": "WfPEsNW-416P"
    },
    {
      "cell_type": "code",
      "execution_count": null,
      "metadata": {
        "id": "KQimIy5w_30O"
      },
      "outputs": [],
      "source": [
        "list4=[]\n",
        "Tlist4=dk2.loc[dk2['cluster'] == 3]\n",
        "list4=Tlist4['area'].values\n",
        "list4"
      ],
      "id": "KQimIy5w_30O"
    },
    {
      "cell_type": "code",
      "execution_count": null,
      "metadata": {
        "id": "-bl3w4yD_bDg"
      },
      "outputs": [],
      "source": [
        "'''# areas classification \n",
        "# according to range number of buisness in a group of areas\n",
        "list1 = []\n",
        "list2 = []\n",
        "list3 = []\n",
        "list4 = []\n",
        "list5 = []\n",
        "count=0\n",
        "for j in sortedBuisness:\n",
        "  if j > 0 and j <= 10 :\n",
        "    list1.append(Array3[count])\n",
        "  elif j > 10 and j <= 30 :\n",
        "    list2.append(Array3[count])\n",
        "  elif j > 30 and j <= 60 :\n",
        "    list3.append(Array3[count])\n",
        "  elif j > 60 and j <= 100 :\n",
        "    list4.append(Array3[count])\n",
        "  elif j > 100 :\n",
        "    list5.append(Array3[count])\n",
        "  count=count+1\n",
        "print(\"list1(1-10)     =\",list1)\n",
        "print(\"list2(10-30)    =\",list2)\n",
        "print(\"list3(30-60)    =\",list3)\n",
        "print(\"list4(60-100)   =\",list4)\n",
        "print(\"list5(100<)     =\",list5)'''"
      ],
      "id": "-bl3w4yD_bDg"
    },
    {
      "cell_type": "code",
      "execution_count": null,
      "metadata": {
        "id": "_-1I6X5ldyCB"
      },
      "outputs": [],
      "source": [
        "acc=sorted.drop(\"All\", axis=1)"
      ],
      "id": "_-1I6X5ldyCB"
    },
    {
      "cell_type": "code",
      "execution_count": null,
      "metadata": {
        "id": "JDxWH4rRjZfY"
      },
      "outputs": [],
      "source": [
        "#take the areas from list1 and show business in each area\n",
        "x1 = len(list1)\n",
        "rows, cols = (x1, 92)\n",
        "matrix1= [[0 for i in range(cols)] for j in range(rows)]\n",
        "for i  in range(x1):\n",
        "  k=list1[i]\n",
        "  matrix1[i] = acc.loc[k]\n",
        "m1=pd.DataFrame(matrix1)\n",
        "#list2 --> m2\n",
        "x2 = len(list2)\n",
        "rows, cols = (x2, 92)\n",
        "matrix2= [[0 for i in range(cols)] for j in range(rows)]\n",
        "for i  in range(x2):\n",
        "  k=list2[i]\n",
        "  matrix2[i] = acc.loc[k]\n",
        "m2=pd.DataFrame(matrix2)\n",
        "#list3 -->m3\n",
        "x3 = len(list3)\n",
        "rows, cols = (x3, 92)\n",
        "matrix3= [[0 for i in range(cols)] for j in range(rows)]\n",
        "for i  in range(x3):\n",
        "  k=list3[i]\n",
        "  matrix3[i] = acc.loc[k]\n",
        "m3=pd.DataFrame(matrix3)\n",
        "#list4 -->m4\n",
        "x4 = len(list4)\n",
        "rows, cols = (x4, 92)\n",
        "matrix4= [[0 for i in range(cols)] for j in range(rows)]\n",
        "for i  in range(x4):\n",
        "  k=list4[i]\n",
        "  matrix4[i] = acc.loc[k]\n",
        "m4=pd.DataFrame(matrix4)"
      ],
      "id": "JDxWH4rRjZfY"
    },
    {
      "cell_type": "code",
      "execution_count": null,
      "metadata": {
        "id": "RkDscrQQu5sT"
      },
      "outputs": [],
      "source": [
        "#find the max with max_id(the area)  -->m1max\n",
        "maxValueIndex = m1.idxmax()\n",
        "m1max=pd.DataFrame(maxValueIndex)\n",
        "m1max['max'] = m1.max()\n",
        "m1max.rename(columns = {0:'max_id'},inplace = True)\n",
        "#remove max = 0 ... -->m1max1\n",
        "a1=[]\n",
        "for i in  range(92):\n",
        "  val =m1max['max'] .iloc[i]\n",
        "  if val == 0:\n",
        "    a1.append(i)\n",
        "m1max1 = m1max.drop(m1max.index[a1])\n",
        "m1max1"
      ],
      "id": "RkDscrQQu5sT"
    },
    {
      "cell_type": "code",
      "execution_count": null,
      "metadata": {
        "id": "nqLxDLFQz9lS"
      },
      "outputs": [],
      "source": [
        "#find the max with max_id(the area) -->m2max\n",
        "maxValueIndex2 = m2.idxmax()\n",
        "m2max=pd.DataFrame(maxValueIndex2)\n",
        "m2max['max'] = m2.max()\n",
        "m2max.rename(columns = {0:'max_id'},inplace = True)\n",
        "#remove max = 0 ... -->m2max2\n",
        "a2=[]\n",
        "for i in  range(92):\n",
        "  val =m2max['max'] .iloc[i]\n",
        "  if val == 0:\n",
        "    a2.append(i)\n",
        "m2max2 = m2max.drop(m2max.index[a2])\n",
        "m2max"
      ],
      "id": "nqLxDLFQz9lS"
    },
    {
      "cell_type": "code",
      "execution_count": null,
      "metadata": {
        "id": "4EH1qrX-4rwH"
      },
      "outputs": [],
      "source": [
        "#find the max with max_id(the area)  -->m3max\n",
        "maxValueIndex3 = m3.idxmax()\n",
        "m3max=pd.DataFrame(maxValueIndex3)\n",
        "m3max['max'] = m3.max()\n",
        "m3max.rename(columns = {0:'max_id'},inplace = True)\n",
        "#remove max = 0 ... -->m3max3\n",
        "a3=[]\n",
        "for i in  range(92):\n",
        "  val =m3max['max'] .iloc[i]\n",
        "  if val == 0:\n",
        "    a3.append(i)\n",
        "m3max3 = m3max.drop(m3max.index[a3])\n",
        "m3max3\n",
        "#ماكس مهنه في حوض"
      ],
      "id": "4EH1qrX-4rwH"
    },
    {
      "cell_type": "code",
      "execution_count": null,
      "metadata": {
        "id": "ZRFb6QKq48Pl"
      },
      "outputs": [],
      "source": [
        "#find the max with max_id(the area) -->m4max\n",
        "maxValueIndex4 = m4.idxmax()\n",
        "m4max=pd.DataFrame(maxValueIndex4)\n",
        "m4max['max'] = m4.max()\n",
        "m4max.rename(columns = {0:'max_id'},inplace = True)\n",
        "#remove max = 0 ... -->m4max4\n",
        "a4=[]\n",
        "for i in  range(92):\n",
        "  val =m4max['max'].iloc[i]\n",
        "  if val == 0:\n",
        "    a4.append(i)\n",
        "m4max4 = m4max.drop(m4max.index[a4])\n",
        "m4max4"
      ],
      "id": "ZRFb6QKq48Pl"
    },
    {
      "cell_type": "code",
      "source": [
        "m4max4.loc[m4max4['max'] == 20]"
      ],
      "metadata": {
        "id": "b-wP_udZRFmd"
      },
      "id": "b-wP_udZRFmd",
      "execution_count": null,
      "outputs": []
    },
    {
      "cell_type": "code",
      "execution_count": null,
      "metadata": {
        "id": "ZoW3k9QI8lh5"
      },
      "outputs": [],
      "source": [
        "#first step predicting how much i need business in each area\n",
        "#area_need =(max_number-n)/max_number\n",
        "buss = df2.drop_duplicates()[['business_number']].to_numpy()\n",
        "d1 = pd.DataFrame(data, columns=['area'])\n",
        "area = d1.drop_duplicates()[['area']].to_numpy()\n",
        "for r in range(92):\n",
        "  if r==0:\n",
        "    d8 = pd.DataFrame(columns=buss[r], index=list1)\n",
        "  else:\n",
        "    d8.insert(r, buss[r],0, True)\n",
        "area_buss1=d8\n",
        "\n",
        "for r in range(92):\n",
        "  if r==0:\n",
        "    d9 = pd.DataFrame(columns=buss[r], index=list2)\n",
        "  else:\n",
        "    d9.insert(r, buss[r],0, True)\n",
        "area_buss2=d9\n",
        "\n",
        "for r in range(92):\n",
        "  if r==0:\n",
        "    d10 = pd.DataFrame(columns=buss[r], index=list3)\n",
        "  else:\n",
        "    d10.insert(r, buss[r],0, True)\n",
        "area_buss3=d10\n",
        "\n",
        "for r in range(92):\n",
        "  if r==0:\n",
        "    d11 = pd.DataFrame(columns=buss[r], index=list4)\n",
        "  else:\n",
        "    d11.insert(r, buss[r],0, True)\n",
        "area_buss4=d11\n"
      ],
      "id": "ZoW3k9QI8lh5"
    },
    {
      "cell_type": "code",
      "execution_count": null,
      "metadata": {
        "id": "KWfa2_Gy8l6L"
      },
      "outputs": [],
      "source": [
        "area_buss1"
      ],
      "id": "KWfa2_Gy8l6L"
    },
    {
      "cell_type": "code",
      "execution_count": null,
      "metadata": {
        "id": "rmXfOxt28mKQ"
      },
      "outputs": [],
      "source": [
        "x=list(area_buss1.columns)\n",
        "y=list(area_buss1.index)\n",
        "r1=sorted.loc[y,x]\n",
        "r1\n"
      ],
      "id": "rmXfOxt28mKQ"
    },
    {
      "cell_type": "code",
      "execution_count": null,
      "metadata": {
        "id": "sNimMyBW8maO"
      },
      "outputs": [],
      "source": [
        "x=list(area_buss2.columns)\n",
        "y=list(area_buss2.index)\n",
        "r2=sorted.loc[y,x]\n",
        "r2"
      ],
      "id": "sNimMyBW8maO"
    },
    {
      "cell_type": "code",
      "execution_count": null,
      "metadata": {
        "id": "v_987IF58msQ"
      },
      "outputs": [],
      "source": [
        "x=list(area_buss3.columns)\n",
        "y=list(area_buss3.index)\n",
        "r3=sorted.loc[y,x]\n",
        "r3"
      ],
      "id": "v_987IF58msQ"
    },
    {
      "cell_type": "code",
      "execution_count": null,
      "metadata": {
        "id": "QqxZ5RfZZilx"
      },
      "outputs": [],
      "source": [
        "x=list(area_buss4.columns)\n",
        "y=list(area_buss4.index)\n",
        "r4=sorted.loc[y,x]\n",
        "r4"
      ],
      "id": "QqxZ5RfZZilx"
    },
    {
      "cell_type": "code",
      "execution_count": null,
      "metadata": {
        "id": "YnpDEzVQZ_UA"
      },
      "outputs": [],
      "source": [
        "m1=m1max.drop(labels='max_id',axis=1)\n",
        "m2=m2max.drop(labels='max_id',axis=1)\n",
        "m3=m3max.drop(labels='max_id',axis=1)\n",
        "m4=m4max.drop(labels='max_id',axis=1)"
      ],
      "id": "YnpDEzVQZ_UA"
    },
    {
      "cell_type": "code",
      "execution_count": null,
      "metadata": {
        "id": "14RauYiSZ_j7"
      },
      "outputs": [],
      "source": [
        "e=0\n",
        "for i in r1.index:\n",
        "  for j in r1.columns:\n",
        "    n=r1.loc[i,j]\n",
        "    max=m1.loc[j,'max']\n",
        "    if  max!=0:\n",
        "      p=(max-n)/max\n",
        "      r1.loc[i,j]=p\n",
        "    else:\n",
        "      r1.loc[i,j]=0\n",
        "    \n",
        "    \n",
        "r1"
      ],
      "id": "14RauYiSZ_j7"
    },
    {
      "cell_type": "code",
      "execution_count": null,
      "metadata": {
        "id": "O_ltTD5TZ_z4"
      },
      "outputs": [],
      "source": [
        "e=0\n",
        "for i in r2.index:\n",
        "  for j in r2.columns:\n",
        "    n=r2.loc[i,j]\n",
        "    max=m2.loc[j,'max']\n",
        "    if  max!=0:\n",
        "      p=(max-n)/max\n",
        "      r2.loc[i,j]=p\n",
        "    else:\n",
        "      r2.loc[i,j]=0\n",
        "   \n",
        "    \n",
        "r2"
      ],
      "id": "O_ltTD5TZ_z4"
    },
    {
      "cell_type": "code",
      "execution_count": null,
      "metadata": {
        "id": "Z5SCuNKdaAJD"
      },
      "outputs": [],
      "source": [
        "e=0\n",
        "for i in r3.index:\n",
        "  for j in r3.columns:\n",
        "    n=r3.loc[i,j]\n",
        "    max=m3.loc[j,'max']\n",
        "    if  max!=0:\n",
        "      p=(max-n)/max\n",
        "      r3.loc[i,j]=p\n",
        "    else:\n",
        "      r3.loc[i,j]=0\n",
        "    \n",
        "    \n",
        "r3"
      ],
      "id": "Z5SCuNKdaAJD"
    },
    {
      "cell_type": "code",
      "execution_count": null,
      "metadata": {
        "id": "o6Bg85vQ4pPy"
      },
      "outputs": [],
      "source": [
        "e=0\n",
        "for i in r4.index:\n",
        "  for j in r4.columns:\n",
        "    n=r4.loc[i,j]\n",
        "    max=m4.loc[j,'max']\n",
        "    if  max!=0:\n",
        "      p=(max-n)/max \n",
        "      r4.loc[i,j]=p\n",
        "    else:\n",
        "      r4.loc[i,j]=0\n",
        "    \n",
        "r4"
      ],
      "id": "o6Bg85vQ4pPy"
    },
    {
      "cell_type": "code",
      "execution_count": null,
      "metadata": {
        "id": "HmKD_XXs718y"
      },
      "outputs": [],
      "source": [
        "#to find the areas have all the streets types\n",
        "df98 = pd.DataFrame(data, columns=['area'])\n",
        "area_street_array = df98.drop_duplicates()[['area']].to_numpy()\n",
        "for t in range(71):\n",
        "  if t==0:\n",
        "    df99 = pd.DataFrame(columns=area_street_array[t], index=range(3))\n",
        "  else:\n",
        "    df99.insert(t, area_street_array[t],0, True)\n",
        "df99.rename(index = {0: \"main_street\", 1:\"main-substreet\",2:\"substreet\"},inplace = True)\n",
        "df3 = pd.DataFrame(data, columns=['street_number'])\n",
        "street =df3[['street_number']].to_numpy()\n",
        "a = df98[['area']].to_numpy()\n",
        "rows, cols = (2, 1056)\n",
        "matrix= [[0 for i in range(cols)] for j in range(rows)]\n",
        "count1 =0\n",
        "count2 =0\n",
        "count3 =0\n",
        "st11 =[0 for x in range(71)]\n",
        "st22 =[0 for x in range(71)]\n",
        "st33 =[0 for x in range(71)]\n",
        "for j in range(1056):\n",
        "  l = street[j]%10\n",
        "  matrix[0][j] = l\n",
        "  matrix[1][j] = a[j]\n",
        "for c in range(71):\n",
        "  k=area_street_array[c]\n",
        "  count1=0\n",
        "  count2=0\n",
        "  count3=0\n",
        "  for p in range(1056):\n",
        "    if k == matrix[1][p] :\n",
        "      if matrix[0][p] == 1:\n",
        "        count1 = 1\n",
        "      if matrix[0][p] == 2:\n",
        "        count2 = 1\n",
        "      elif matrix [0][p] == 3:\n",
        "        count3 =  1\n",
        "  st11[c]=count1\n",
        "  st22[c]=count2\n",
        "  st33[c]=count3\n",
        "\n",
        "df99.loc[\"main_street\"] = st11\n",
        "df99.loc[\"main-substreet\"] = st22\n",
        "df99.loc[\"substreet\"] =st33\n",
        "\n",
        "df99\n",
        "df99.style\n",
        "#حوض شارع"
      ],
      "id": "HmKD_XXs718y"
    },
    {
      "cell_type": "code",
      "source": [
        ""
      ],
      "metadata": {
        "id": "fVq5uzrpoDGq"
      },
      "id": "fVq5uzrpoDGq",
      "execution_count": null,
      "outputs": []
    },
    {
      "cell_type": "code",
      "source": [
        "#cost5\n",
        "c5=d4.loc[[5]]\n",
        "c5=c5.max()\n",
        "c5=c5.to_frame()\n",
        "c5=c5*0.3\n",
        "c5.style"
      ],
      "metadata": {
        "id": "Pq5zzmfIlH_m"
      },
      "id": "Pq5zzmfIlH_m",
      "execution_count": null,
      "outputs": []
    },
    {
      "cell_type": "code",
      "source": [
        "c4=d4.loc[[4,5]]\n",
        "c4.style\n",
        "c4=c4.max()\n",
        "c4=c4.to_frame()\n",
        "c4=c4*0.3\n",
        "c4.style"
      ],
      "metadata": {
        "id": "O8ZjUpc3lHq5"
      },
      "id": "O8ZjUpc3lHq5",
      "execution_count": null,
      "outputs": []
    },
    {
      "cell_type": "code",
      "source": [
        "#cost3\n",
        "c3=d4.loc[[3,4,5]]\n",
        "c3.style\n",
        "c3=c3.max()\n",
        "c3=c3.to_frame()\n",
        "c3=c3*0.3\n",
        "c3.style"
      ],
      "metadata": {
        "id": "WYGTpFZilHiI"
      },
      "id": "WYGTpFZilHiI",
      "execution_count": null,
      "outputs": []
    },
    {
      "cell_type": "code",
      "source": [
        "#cost2\n",
        "c2=d4.loc[[2,3,4,5]]\n",
        "c2.style\n",
        "c2=c2.max()\n",
        "c2=c2.to_frame()\n",
        "c2=c2*0.3\n",
        "c2.style"
      ],
      "metadata": {
        "id": "uqvU5Oe3lHYk"
      },
      "id": "uqvU5Oe3lHYk",
      "execution_count": null,
      "outputs": []
    },
    {
      "cell_type": "code",
      "source": [
        "#cost1\n",
        "c1=d4.loc[[1,2,3,4,5]]\n",
        "c1.style\n",
        "c1=c1.max()\n",
        "c1=c1.to_frame()\n",
        "c1=c1*0.3\n",
        "c1.style"
      ],
      "metadata": {
        "id": "9n--RGBwlHOI"
      },
      "id": "9n--RGBwlHOI",
      "execution_count": null,
      "outputs": []
    },
    {
      "cell_type": "code",
      "execution_count": null,
      "metadata": {
        "id": "KMIaPUNMenFT"
      },
      "outputs": [],
      "source": [
        "from pandas.core.frame import DataFrame\n",
        "def streets_classifier(area,street_cat,cost):\n",
        "  k = 0 \n",
        "  area_val = []  \n",
        "  street_val = []\n",
        "\n",
        "  # sort business values\n",
        "  b1 = data[['business_number']].to_numpy()\n",
        "  b2 = DataFrame(b1)\n",
        "  b3 = b2.drop_duplicates()\n",
        "  b4 = b3.sort_values(by=0)\n",
        "  list_b2 = b4.values.tolist()\n",
        "  #display(list_b2)\n",
        "  #areas classification\n",
        "  # list 1 \n",
        "  for i in list1:\n",
        "    if ( area == i ):\n",
        "      for j in r1.index:\n",
        "        k=k+1\n",
        "        if ( area == j):\n",
        "          area_val = r1.iloc[k-1,0:]\n",
        "          AV_list = area_val.to_list()\n",
        "         # print(area_val.to_list())\n",
        "# list 2 \n",
        "  for i in list2:\n",
        "    if ( area == i ):\n",
        "      for j in r2.index:\n",
        "        k=k+1\n",
        "        if ( area == j):\n",
        "          area_val = r2.iloc[k-1,0:]\n",
        "          AV_list = area_val.to_list()\n",
        "          #display (area_val.to_list())\n",
        "# list 3 \n",
        "\n",
        "  for i in list3:\n",
        "    if ( area == i ):\n",
        "      for j in r3.index:\n",
        "        k=k+1\n",
        "        if ( area == j):\n",
        "          area_val = r3.iloc[k-1,0:]\n",
        "          AV_list = area_val.to_list()\n",
        "          #display (area_val.to_list())  \n",
        "# list 4\n",
        "  for i in list4:\n",
        "    if ( area == i ):\n",
        "      for j in r4.index:\n",
        "        k=k+1\n",
        "        if ( area == j):\n",
        "          area_val = r4.iloc[k-1,0:]\n",
        "          AV_list = area_val.to_list()\n",
        "          #display (area_val.to_list())\n",
        "\n",
        "  # street classification :         \n",
        "  # df5 -> dataframe of the streets category probabilities \n",
        "  k = 0 \n",
        "  for q in df5.index:\n",
        "    k=k+1\n",
        "    if ( street_cat == q ):\n",
        "      j = df5.iloc[k-1,0:]\n",
        "      street_val = j.iloc[0:]\n",
        "      street_val = street_val *0.7\n",
        "      SV_list = street_val.to_list()\n",
        "      \n",
        "      #display (street_val.to_list())\n",
        "  \n",
        "  # cost classification : \n",
        "  # the pobabilites are in dataframe d4 \n",
        "  cost_val = []\n",
        "  cost_val2 = [] \n",
        "  cost1 = 0\n",
        "  # cost ////////////////////////////////////////////////////////////////////////////////////////////////////////////////////////////////////////////////////////////////////////////////////////////////////////////////////\n",
        "  k = 0 \n",
        "  for i in d4.index:\n",
        "    cost1 = i \n",
        "    if ( cost == i ):\n",
        "      #print(i)\n",
        "      if (i == 5 ):\n",
        "        cost_val5 = d4.iloc[i-1,0:]\n",
        "        CV_list5 = cost_val5.to_list()\n",
        "      elif (i == 4):\n",
        "        cost_val4 = d4.iloc[i-1,0:]\n",
        "        CV_list4 = cost_val4.to_list()\n",
        "        cost_val5 = d4.iloc[i,0:]\n",
        "        CV_list5 = cost_val5.to_list()\n",
        "      elif (i == 3):\n",
        "        cost_val3 = d4.iloc[i-1,0:]\n",
        "        CV_list3 = cost_val3.to_list()\n",
        "        cost_val4 = d4.iloc[i,0:]\n",
        "        CV_list4 = cost_val4.to_list()\n",
        "        cost_val5 = d4.iloc[i+1,0:]\n",
        "        CV_list5 = cost_val5.to_list()\n",
        "      elif (i == 2):\n",
        "        cost_val2 = d4.iloc[i-1,0:]\n",
        "        CV_list2 = cost_val2.to_list()\n",
        "        cost_val3 = d4.iloc[i,0:]\n",
        "        CV_list3 = cost_val3.to_list()\n",
        "        cost_val4 = d4.iloc[i+1,0:]\n",
        "        CV_list4 = cost_val4.to_list()\n",
        "        cost_val5 = d4.iloc[i+2,0:]\n",
        "        CV_list5 = cost_val5.to_list()\n",
        "      elif (i == 1):\n",
        "        cost_val = d4.iloc[i-1,0:]\n",
        "        CV_list = cost_val.to_list()\n",
        "        cost_val2 = d4.iloc[i,0:]\n",
        "        CV_list2 = cost_val2.to_list()\n",
        "        cost_val3 = d4.iloc[i+1,0:]\n",
        "        CV_list3 = cost_val3.to_list()\n",
        "        cost_val4 = d4.iloc[i+2,0:]\n",
        "        CV_list4 = cost_val4.to_list()\n",
        "        cost_val5 = d4.iloc[i+3,0:]\n",
        "        CV_list5 = cost_val5.to_list()\n",
        "      else :\n",
        "        print(\" bad input \")\n",
        "      #display (CV_list)\n",
        " # display(CV_list)\n",
        "\n",
        "  # we got the vectors we need \n",
        "  # sort the vectors in one matrix \n",
        "  mul_list = []\n",
        "  mul_list3 = []\n",
        "  counter1 = 0 \n",
        " # print(SV_list)\n",
        "  for i in range(len(AV_list)):\n",
        "    mul_list.append(AV_list[i]*SV_list[i])\n",
        " # print(mul_list)\n",
        "  rslt = DataFrame(mul_list)\n",
        "  mul_list1 = rslt#.sort_values(by=0)\n",
        "  ############################################################\n",
        "  mul_list2 =  mul_list1.values.tolist()\n",
        "\n",
        "  MAT1 = [[ 0 for i in range (5)]  for i in range (92)]\n",
        "\n",
        "\n",
        " # for i in mul_list2:\n",
        "  #  MAT1[1].append(i) \n",
        "  h = 0 \n",
        "  for item in mul_list2:\n",
        "   for h in item:\n",
        "      float(h)\n",
        "      MAT1[0].append(h)\n",
        "  i = 0 \n",
        "  if ( cost == 1):\n",
        "    for i in CV_list:\n",
        "      MAT1[1].append(i)\n",
        "    for i in CV_list2:\n",
        "      MAT1[2].append(i)\n",
        "    for i in CV_list3:\n",
        "      MAT1[3].append(i)\n",
        "    for i in CV_list4:\n",
        "      MAT1[4].append(i)\n",
        "    for i in CV_list5:\n",
        "      MAT1[5].append(i)\n",
        "    df_mat = DataFrame(MAT1)\n",
        "    df_mat1 = df_mat.iloc[:6,0:]\n",
        "    df_mat1 = df_mat1.rename(index={ 0 : 'streetArea_prob',1 : 'cost_prob_1',2 : 'cost_prob_2',3 : 'cost_prob_3',4 : 'cost_prob_4' ,5 : 'cost_prob_5'})\n",
        "\n",
        "  elif ( cost == 2 ):\n",
        "    for i in CV_list2:\n",
        "      MAT1[1].append(i)\n",
        "    for i in CV_list3:\n",
        "      MAT1[2].append(i)\n",
        "    for i in CV_list4:\n",
        "      MAT1[3].append(i)\n",
        "    for i in CV_list5:\n",
        "      MAT1[4].append(i)\n",
        "    df_mat = DataFrame(MAT1)\n",
        "    df_mat1 = df_mat.iloc[:5,0:]\n",
        "    df_mat1 = df_mat1.rename(index={ 0 : 'streetArea_prob', 1 : 'cost_prob_2',2 : 'cost_prob_3',3 : 'cost_prob_4',4 : 'cost_prob_5'})\n",
        "\n",
        "  elif ( cost == 3 ):\n",
        "    for i in CV_list3:\n",
        "      MAT1[1].append(i)\n",
        "    for i in CV_list4:\n",
        "      MAT1[2].append(i)\n",
        "    for i in CV_list5:\n",
        "      MAT1[3].append(i)\n",
        "    df_mat = DataFrame(MAT1)\n",
        "    df_mat1 = df_mat.iloc[:4,0:]\n",
        "    df_mat1 = df_mat1.rename(index={ 0 : 'streetArea_prob', 1 : 'cost_prob_3',2 : 'cost_prob_4',3 : 'cost_prob_5'})\n",
        "\n",
        "\n",
        "  elif ( cost == 4 ):\n",
        "    for i in CV_list4:\n",
        "      MAT1[1].append(i)\n",
        "    for i in CV_list5:\n",
        "      MAT1[2].append(i)\n",
        "    df_mat = DataFrame(MAT1)\n",
        "    df_mat1 = df_mat.iloc[:3,0:]\n",
        "    df_mat1 = df_mat1.rename(index={ 0 : 'streetArea_prob', 1 : 'cost_prob_4',2 : 'cost_prob_5'})\n",
        "\n",
        "  elif ( cost == 5 ):\n",
        "     for i in CV_list5:\n",
        "       MAT1[1].append(i)\n",
        "     df_mat = DataFrame(MAT1)\n",
        "     df_mat1 = df_mat.iloc[:2,0:]\n",
        "     df_mat1 = df_mat1.rename(index={ 0 : 'streetArea_prob', 1 : 'cost_prob_5'})\n",
        "\n",
        "  # the result is the multipliciton of area and street probabilities\n",
        " # print(df_mat1)\n",
        "###################################################\n",
        "\n",
        "  C4 = 5\n",
        "  for x in df5.columns:\n",
        "    df_mat1 = df_mat1.rename(columns={ C4 : x})\n",
        "    C4 += 1\n",
        "  df_mat1 =  df_mat1.drop([0,1,2,3,4], axis = 1)\n",
        "\n",
        "   #delete coloumn have the streetArea_prob =0 \n",
        "  for i in df_mat1.index:\n",
        "    for j in df_mat1.columns:\n",
        "      if df_mat1.loc['streetArea_prob',j] == 0 :\n",
        "         df_mat1.drop(j, inplace=True, axis=1)\n",
        "\n",
        "\n",
        "  \n",
        " \n",
        "\n",
        " # df_mat1[len(df_mat1)] = 'Index number'\n",
        "  if (cost==5):\n",
        "    for i in df_mat1.columns:\n",
        "        x=df_mat1.loc['streetArea_prob',i]\n",
        "        y=c5.loc[i,0]\n",
        "        df_mat1.loc['streetArea_prob',i]=x+y\n",
        "  if (cost==4):\n",
        "    for i in df_mat1.columns:\n",
        "        x=df_mat1.loc['streetArea_prob',i]\n",
        "        y=c4.loc[i,0]\n",
        "        df_mat1.loc['streetArea_prob',i]=x+y  \n",
        "  if (cost==3):\n",
        "    for i in df_mat1.columns:\n",
        "        x=df_mat1.loc['streetArea_prob',i]\n",
        "        y=c3.loc[i,0]\n",
        "        df_mat1.loc['streetArea_prob',i]=x+y                 \n",
        "  if (cost==2):\n",
        "    for i in df_mat1.columns:\n",
        "        x=df_mat1.loc['streetArea_prob',i]\n",
        "        y=c2.loc[i,0]\n",
        "        df_mat1.loc['streetArea_prob',i]=x+y\n",
        "  if (cost==1):\n",
        "    for i in df_mat1.columns:\n",
        "        x=df_mat1.loc['streetArea_prob',i]\n",
        "        y=c1.loc[i,0]\n",
        "        df_mat1.loc['streetArea_prob',i]=x+y\n",
        "\n",
        "  df_mat1=df_mat1.sort_values(by = 'streetArea_prob', axis = 1, ascending = False)\n",
        "  c=df_mat1.shape[1]\n",
        "  index0 = list(range(1, c+1))\n",
        "  s=len(df_mat1)\n",
        "  df_mat1.loc[s]=index0\n",
        " #print (s)\n",
        "  df_mat1=df_mat1.rename(index={s : \"Index_number\"})\n",
        "  new_index1 = ['Index_number', 'streetArea_prob']\n",
        "  df_mat1=df_mat1.reindex(new_index1)\n",
        "  \n",
        "  df_mat1=df_mat1.rename(index={'Index_number':'Rank','streetArea_prob': 'Utility Function'})\n",
        "\n",
        "\n",
        "  \n",
        "  return df_mat1"
      ],
      "id": "KMIaPUNMenFT"
    },
    {
      "cell_type": "code",
      "execution_count": null,
      "metadata": {
        "id": "McdVXBHvtboT"
      },
      "outputs": [],
      "source": [
        "x=streets_classifier(24052,'main_street',1)\n",
        "x\n",
        "\n",
        "#test randomly"
      ],
      "id": "McdVXBHvtboT"
    },
    {
      "cell_type": "code",
      "source": [
        "x.loc[:,[4711]]"
      ],
      "metadata": {
        "id": "OptibEEpXsHi"
      },
      "id": "OptibEEpXsHi",
      "execution_count": null,
      "outputs": []
    },
    {
      "cell_type": "code",
      "execution_count": null,
      "metadata": {
        "id": "0ELQObERwAd3"
      },
      "outputs": [],
      "source": [
        "# streets_classifier(24013,'main_street',1).style #test10\n",
        "# This function takes the same parameters as the first function \n",
        "# and it takes the result of the previous function and drop the columns that all the cost probability init is equals to zero.\n",
        "\"\"\"\n",
        "def cost_classifier (Area1,street1,cost1):\n",
        "  result1 = streets_classifier(Area1,street1,cost1)\n",
        "  s1=[]\n",
        "  # classifing cost 5\n",
        "  if cost1 == 5:\n",
        "     print(result1)\n",
        "    # cost 4\n",
        "  if cost1 == 4: \n",
        "    s1=d4.loc[[4]]\n",
        "    s2=d4.loc[[5]]\n",
        "    s1.append(s2)\n",
        "    s1.style\n",
        "\n",
        "  # cost 3\n",
        "  if cost1 == 3: \n",
        "    for i in result1.iloc[2:,0:]:\n",
        "      for j in result1.columns:\n",
        "        if result1.loc['cost_prob_3',j] == 0 and result1.loc['cost_prob_4',j] == 0 and result1.loc['cost_prob_5',j] == 0 :\n",
        "          result1.drop(j, inplace=True, axis=1)\n",
        "  # cost 2 \n",
        "  if cost1 == 2: \n",
        "    for i in result1.iloc[1:,0:]:\n",
        "      for j in result1.columns:\n",
        "        if result1.loc['cost_prob_2',j] == 0 and result1.loc['cost_prob_3',j] == 0 and result1.loc['cost_prob_4',j] == 0 and result1.loc['cost_prob_5',j] == 0 :\n",
        "          result1.drop(j, inplace=True, axis=1)\n",
        "\n",
        "  return s1\n",
        "cost_classifier(24012,'main_street',1)\n",
        "\"\"\""
      ],
      "id": "0ELQObERwAd3"
    },
    {
      "cell_type": "code",
      "source": [
        "#cost_classifier(24012,'main_street',4)\n"
      ],
      "metadata": {
        "id": "0SzBaxKFcOQo"
      },
      "id": "0SzBaxKFcOQo",
      "execution_count": null,
      "outputs": []
    },
    {
      "cell_type": "code",
      "execution_count": null,
      "metadata": {
        "id": "UV6XpfgHWKu_"
      },
      "outputs": [],
      "source": [
        "def area_find(business):\n",
        " \n",
        " ww1= r1[[business]]\n",
        " ww2= r2[[business]]\n",
        " ww3= r3[[business]]\n",
        " ww4= r4[[business]]\n",
        " www=pd.concat([ww1,ww2,ww3,ww4], axis=0)\n",
        " www=www.sort_values(by=[business] ,ascending=False)\n",
        " xx=df5[[business]]\n",
        " m1=xx.loc['main_street',business]\n",
        " m2=xx.loc['main-substreet',business]\n",
        " m3=xx.loc['substreet',business]\n",
        " main=[]\n",
        " main_sub=[]\n",
        " sub=[]\n",
        "\n",
        " for i in www.index:\n",
        "  if www.loc[i,business] == 0 :\n",
        "    www=www.drop(i)\n",
        " for i in www.index:\n",
        "   for j in www.columns:\n",
        "     main.append(www.loc[i,j]*m1)\n",
        "     main_sub.append(www.loc[i,j]*m2)\n",
        "     sub.append(www.loc[i,j]*m3)\n",
        "\n",
        " www[\"Needs in main street\"] = main\n",
        " www[\"Needs in main_sub street\"] = main_sub\n",
        " www[\"Needs in sub street\"] = sub\n",
        " www=www.drop([business], axis = 1)\n",
        " \n",
        " return www"
      ],
      "id": "UV6XpfgHWKu_"
    },
    {
      "cell_type": "code",
      "execution_count": null,
      "metadata": {
        "id": "MXKTKi4tWKqH"
      },
      "outputs": [],
      "source": [
        "x=area_find(4711)\n",
        "x"
      ],
      "id": "MXKTKi4tWKqH"
    },
    {
      "cell_type": "code",
      "source": [
        "d4.loc[:,[4711]]"
      ],
      "metadata": {
        "id": "D7DebO-1ZLrM"
      },
      "id": "D7DebO-1ZLrM",
      "execution_count": null,
      "outputs": []
    },
    {
      "cell_type": "markdown",
      "metadata": {
        "id": "wfGFA4dJ4avB"
      },
      "source": [
        "## **Test on List 1**"
      ],
      "id": "wfGFA4dJ4avB"
    },
    {
      "cell_type": "code",
      "execution_count": null,
      "metadata": {
        "id": "a4jvWBjnapnE"
      },
      "outputs": [],
      "source": [
        "#to find the business needs in this area (list1))24032-24053 \n",
        "q1=dlast.loc[[24052]]#محلات متوفره في الحوض \n",
        "for i in q1.index:\n",
        "  for j in q1.columns:\n",
        "    if q1.loc[i,j]==0 :\n",
        "      q1.drop(j, inplace=True, axis=1)\n",
        "\n",
        "q1.style"
      ],
      "id": "a4jvWBjnapnE"
    },
    {
      "cell_type": "code",
      "execution_count": null,
      "metadata": {
        "id": "29GHDFxlqGKM"
      },
      "outputs": [],
      "source": [
        "rr1=r1.loc[[24052]]# محلات المحتاجه في الحوض  بناء على الليست \\\n",
        "for i in rr1.index:\n",
        "  for j in rr1.columns:\n",
        "    if rr1.loc[i,j]==0 :\n",
        "      rr1.drop(j, inplace=True, axis=1)\n",
        "\n",
        "rr1.style"
      ],
      "id": "29GHDFxlqGKM"
    },
    {
      "cell_type": "code",
      "execution_count": null,
      "metadata": {
        "id": "Yauvd-KEsMv-"
      },
      "outputs": [],
      "source": [
        "t=streets_classifier(24052 ,'substreet',5) #test1\n",
        "t.loc[:,[4711]]"
      ],
      "id": "Yauvd-KEsMv-"
    },
    {
      "cell_type": "code",
      "execution_count": null,
      "metadata": {
        "id": "ZG2OnNCEsNCt"
      },
      "outputs": [],
      "source": [
        "streets_classifier(24052,'main-substreet',1).style #test2"
      ],
      "id": "ZG2OnNCEsNCt"
    },
    {
      "cell_type": "code",
      "execution_count": null,
      "metadata": {
        "id": "yoIzQlSHlQDt"
      },
      "outputs": [],
      "source": [
        "streets_classifier(24052,'substreet',1).style #test3"
      ],
      "id": "yoIzQlSHlQDt"
    },
    {
      "cell_type": "markdown",
      "metadata": {
        "id": "Zz9wO6X34fgS"
      },
      "source": [
        "# **Test on list 2**"
      ],
      "id": "Zz9wO6X34fgS"
    },
    {
      "cell_type": "code",
      "execution_count": null,
      "metadata": {
        "id": "RWbpVFoYs5pI"
      },
      "outputs": [],
      "source": [
        "#to find the business needs in this area (list2))24003-24031-24053\n",
        "q2=dlast.loc[[24013]]#محلات متوفره في الحوض \n",
        "for i in q2.index:\n",
        "  for j in q2.columns:\n",
        "    if q2.loc[i,j]==0 :\n",
        "      q2.drop(j, inplace=True, axis=1)\n",
        "\n",
        "q2.style"
      ],
      "id": "RWbpVFoYs5pI"
    },
    {
      "cell_type": "code",
      "execution_count": null,
      "metadata": {
        "id": "jPGMqKxms9K3"
      },
      "outputs": [],
      "source": [
        "rr2=r2.loc[[24013]]# محلات المحتاجه في الحوض  بناء على الليست \\\n",
        "for i in rr2.index:\n",
        "  for j in rr2.columns:\n",
        "    if rr2.loc[i,j]==0 :\n",
        "      rr2.drop(j, inplace=True, axis=1)\n",
        "\n",
        "rr2.style"
      ],
      "id": "jPGMqKxms9K3"
    },
    {
      "cell_type": "code",
      "execution_count": null,
      "metadata": {
        "id": "ijY3WtKhsbH-"
      },
      "outputs": [],
      "source": [
        "streets_classifier(24013,'main_street',1).style #test4"
      ],
      "id": "ijY3WtKhsbH-"
    },
    {
      "cell_type": "code",
      "execution_count": null,
      "metadata": {
        "id": "7bgRD8OZlQa_"
      },
      "outputs": [],
      "source": [
        "streets_classifier(24013,'main-substreet',1).style #test5"
      ],
      "id": "7bgRD8OZlQa_"
    },
    {
      "cell_type": "code",
      "execution_count": null,
      "metadata": {
        "id": "vOk0X7nGlQuP"
      },
      "outputs": [],
      "source": [
        "streets_classifier(24013,'substreet',1).style #test6"
      ],
      "id": "vOk0X7nGlQuP"
    },
    {
      "cell_type": "markdown",
      "metadata": {
        "id": "RjE-bv4q8yxd"
      },
      "source": [
        "# Test on List 3"
      ],
      "id": "RjE-bv4q8yxd"
    },
    {
      "cell_type": "code",
      "execution_count": null,
      "metadata": {
        "id": "mcF3Un5Tses8"
      },
      "outputs": [],
      "source": [
        "#to find the business needs in this area (list3)) 24111 \n",
        "q1=dlast.loc[[24032]]#محلات متوفره في الحوض \n",
        "for i in q1.index:\n",
        "  for j in q1.columns:\n",
        "    if q1.loc[i,j]==0 :\n",
        "      q1.drop(j, inplace=True, axis=1)\n",
        "\n",
        "q1.style"
      ],
      "id": "mcF3Un5Tses8"
    },
    {
      "cell_type": "code",
      "execution_count": null,
      "metadata": {
        "id": "59TqUA5xuIUu"
      },
      "outputs": [],
      "source": [
        "rr3=r3.loc[[24032]]# محلات المحتاجه في الحوض  بناء على الليست \\\n",
        "for i in rr3.index:\n",
        "  for j in rr3.columns:\n",
        "    if rr3.loc[i,j]==0 :\n",
        "      rr3.drop(j, inplace=True, axis=1)\n",
        "\n",
        "rr3.style"
      ],
      "id": "59TqUA5xuIUu"
    },
    {
      "cell_type": "code",
      "execution_count": null,
      "metadata": {
        "id": "f03xeCkqurtf"
      },
      "outputs": [],
      "source": [
        "streets_classifier(24032,'main_street',1).style #test7"
      ],
      "id": "f03xeCkqurtf"
    },
    {
      "cell_type": "code",
      "execution_count": null,
      "metadata": {
        "id": "F_FkkiSrurcg"
      },
      "outputs": [],
      "source": [
        "streets_classifier(24032,'main-substreet',1).style #test8"
      ],
      "id": "F_FkkiSrurcg"
    },
    {
      "cell_type": "code",
      "execution_count": null,
      "metadata": {
        "id": "2XzPoHkauRxK"
      },
      "outputs": [],
      "source": [
        "streets_classifier(24032,'substreet',1).style #test9"
      ],
      "id": "2XzPoHkauRxK"
    },
    {
      "cell_type": "markdown",
      "metadata": {
        "id": "bJ4uyICU9CqL"
      },
      "source": [
        "# Test on List 4"
      ],
      "id": "bJ4uyICU9CqL"
    },
    {
      "cell_type": "code",
      "execution_count": null,
      "metadata": {
        "id": "_ReEmuH7u9Hy"
      },
      "outputs": [],
      "source": [
        "#to find the business needs in this area (list3)) 24013\n",
        "q1=dlast.loc[[24111]]#محلات متوفره في الحوض \n",
        "for i in q1.index:\n",
        "  for j in q1.columns:\n",
        "    if q1.loc[i,j]==0 :\n",
        "      q1.drop(j, inplace=True, axis=1)\n",
        "\n",
        "q1.style"
      ],
      "id": "_ReEmuH7u9Hy"
    },
    {
      "cell_type": "code",
      "execution_count": null,
      "metadata": {
        "id": "BMrn2HeEu9YB"
      },
      "outputs": [],
      "source": [
        "rr4=r4.loc[[24111]]# محلات المحتاجه في الحوض  بناء على الليست \\\n",
        "for i in rr4.index:\n",
        "  for j in rr4.columns:\n",
        "    if rr4.loc[i,j]==0 :\n",
        "      rr4.drop(j, inplace=True, axis=1)\n",
        "\n",
        "rr4.style"
      ],
      "id": "BMrn2HeEu9YB"
    },
    {
      "cell_type": "code",
      "execution_count": null,
      "metadata": {
        "id": "bWBO0GTtu9oy"
      },
      "outputs": [],
      "source": [
        "streets_classifier(24111,'main_street',1).style #test10"
      ],
      "id": "bWBO0GTtu9oy"
    },
    {
      "cell_type": "code",
      "execution_count": null,
      "metadata": {
        "id": "vXp2jNbeu91R"
      },
      "outputs": [],
      "source": [
        "streets_classifier(24111,'main-substreet',1).style #test11"
      ],
      "id": "vXp2jNbeu91R"
    },
    {
      "cell_type": "code",
      "execution_count": null,
      "metadata": {
        "id": "-iqsWImxx71s"
      },
      "outputs": [],
      "source": [
        "streets_classifier(24111,'substreet',1).style #test12"
      ],
      "id": "-iqsWImxx71s"
    },
    {
      "cell_type": "code",
      "execution_count": null,
      "metadata": {
        "id": "tuTKgvxithVl"
      },
      "outputs": [],
      "source": [
        "#Find the right area for the profession :\n",
        "d4.style"
      ],
      "id": "tuTKgvxithVl"
    },
    {
      "cell_type": "code",
      "source": [
        "m1max1.loc[[4711]]\n"
      ],
      "metadata": {
        "id": "6enA0D3o5tCQ"
      },
      "id": "6enA0D3o5tCQ",
      "execution_count": null,
      "outputs": []
    },
    {
      "cell_type": "code",
      "source": [
        "rr1.loc[:,[4711]]"
      ],
      "metadata": {
        "id": "5Prw955w7uzs"
      },
      "id": "5Prw955w7uzs",
      "execution_count": null,
      "outputs": []
    },
    {
      "cell_type": "code",
      "source": [
        "d4.loc[:,[4711]]\n",
        "  "
      ],
      "metadata": {
        "id": "FrrbRdwU9iNw"
      },
      "id": "FrrbRdwU9iNw",
      "execution_count": null,
      "outputs": []
    }
  ],
  "metadata": {
    "colab": {
      "collapsed_sections": [
        "wfGFA4dJ4avB",
        "Zz9wO6X34fgS",
        "RjE-bv4q8yxd"
      ],
      "name": "project.ipynb",
      "provenance": []
    },
    "kernelspec": {
      "display_name": "Python 3",
      "language": "python",
      "name": "python3"
    },
    "language_info": {
      "codemirror_mode": {
        "name": "ipython",
        "version": 3
      },
      "file_extension": ".py",
      "mimetype": "text/x-python",
      "name": "python",
      "nbconvert_exporter": "python",
      "pygments_lexer": "ipython3",
      "version": "3.8.8"
    }
  },
  "nbformat": 4,
  "nbformat_minor": 5
}